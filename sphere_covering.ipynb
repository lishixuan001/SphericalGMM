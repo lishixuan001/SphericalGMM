{
 "cells": [
  {
   "cell_type": "code",
   "execution_count": 1,
   "metadata": {},
   "outputs": [
    {
     "ename": "ImportError",
     "evalue": "No module named bpy",
     "output_type": "error",
     "traceback": [
      "\u001b[0;31m---------------------------------------------------------------------------\u001b[0m",
      "\u001b[0;31mImportError\u001b[0m                               Traceback (most recent call last)",
      "\u001b[0;32m<ipython-input-1-0eedb7a61e21>\u001b[0m in \u001b[0;36m<module>\u001b[0;34m()\u001b[0m\n\u001b[1;32m      3\u001b[0m \u001b[0;32mimport\u001b[0m \u001b[0mos\u001b[0m\u001b[0;34m\u001b[0m\u001b[0m\n\u001b[1;32m      4\u001b[0m \u001b[0;32mfrom\u001b[0m \u001b[0mos\u001b[0m\u001b[0;34m.\u001b[0m\u001b[0mpath\u001b[0m \u001b[0;32mimport\u001b[0m \u001b[0mjoin\u001b[0m\u001b[0;34m\u001b[0m\u001b[0m\n\u001b[0;32m----> 5\u001b[0;31m \u001b[0;32mimport\u001b[0m \u001b[0mbpy\u001b[0m\u001b[0;34m\u001b[0m\u001b[0m\n\u001b[0m\u001b[1;32m      6\u001b[0m \u001b[0;32mimport\u001b[0m \u001b[0mmatplotlib\u001b[0m\u001b[0;34m\u001b[0m\u001b[0m\n\u001b[1;32m      7\u001b[0m \u001b[0;32mimport\u001b[0m \u001b[0mmatplotlib\u001b[0m\u001b[0;34m.\u001b[0m\u001b[0mpyplot\u001b[0m \u001b[0;32mas\u001b[0m \u001b[0mplt\u001b[0m\u001b[0;34m\u001b[0m\u001b[0m\n",
      "\u001b[0;31mImportError\u001b[0m: No module named bpy"
     ]
    }
   ],
   "source": [
    "import numpy as np\n",
    "from math import *\n",
    "import os\n",
    "from os.path import join\n",
    "import bpy\n",
    "import matplotlib\n",
    "import matplotlib.pyplot as plt\n",
    "from mpl_toolkits.mplot3d import Axes3D\n",
    "import ipyvolume as ipv\n",
    "from numpy.linalg import norm\n",
    "import torch\n",
    "import lie_learn.spaces.S2 as S2"
   ]
  },
  {
   "cell_type": "code",
   "execution_count": null,
   "metadata": {},
   "outputs": [],
   "source": [
    "def plot_spheres(centers):\n",
    "    fig = ipv.figure()\n",
    "    u = np.linspace(0, 2 * np.pi, 100)\n",
    "    v = np.linspace(0, np.pi, 100)\n",
    "    R = 2 * 1/3 * np.sqrt(3) * 1/2\n",
    "    for center in centers:\n",
    "        x = R * np.outer(np.cos(u), np.sin(v)) + center[0]\n",
    "        y = R * np.outer(np.sin(u), np.sin(v))  + center[1]\n",
    "        z = R * np.outer(np.ones(np.size(u)), np.cos(v)) + center[2]\n",
    "        ipv.plot_mesh(x, y, z, u=y, v=x, wireframe=False, color=\"red\")\n",
    "    ipv.show()"
   ]
  },
  {
   "cell_type": "code",
   "execution_count": null,
   "metadata": {},
   "outputs": [],
   "source": []
  },
  {
   "cell_type": "code",
   "execution_count": 20,
   "metadata": {},
   "outputs": [],
   "source": [
    "def get_spheres(scale=1, subdiv=1, radius=0.562):\n",
    "    middle_point_cache = {}\n",
    "    \n",
    "    def vertex(x, y, z):\n",
    "        \"\"\" Return vertex coordinates fixed to the unit sphere \"\"\"\n",
    "        length = np.sqrt(x**2 + y**2 + z**2)\n",
    "        return [(i * scale) / length for i in (x,y,z)]\n",
    "\n",
    "\n",
    "    def middle_point(point_1, point_2):\n",
    "        \"\"\" Find a middle point and project to the unit sphere \"\"\"\n",
    "        smaller_index = min(point_1, point_2)\n",
    "        greater_index = max(point_1, point_2)\n",
    "\n",
    "        key = \"{0}-{1}\".format(smaller_index, greater_index)\n",
    "\n",
    "        if key in middle_point_cache:\n",
    "            return middle_point_cache[key]\n",
    "\n",
    "        # If it's not in cache, then we can cut it\n",
    "        vert_1 = verts[point_1]\n",
    "        vert_2 = verts[point_2]\n",
    "        middle = [sum(i)/2 for i in zip(vert_1, vert_2)]\n",
    "\n",
    "        verts.append(vertex(*middle))\n",
    "\n",
    "        index = len(verts) - 1\n",
    "        middle_point_cache[key] = index\n",
    "\n",
    "        return index\n",
    "\n",
    "    PHI = (1 + np.sqrt(5)) / 2\n",
    "\n",
    "    verts = [ vertex(-1, PHI, 0), \n",
    "         vertex( 1, PHI, 0), \n",
    "         vertex(-1, -PHI, 0), \n",
    "         vertex( 1, -PHI, 0), \n",
    "         vertex(0, -1, PHI), \n",
    "         vertex(0, 1, PHI), \n",
    "         vertex(0, -1, -PHI), \n",
    "         vertex(0, 1, -PHI), \n",
    "         vertex( PHI, 0, -1), \n",
    "         vertex( PHI, 0, 1), \n",
    "         vertex(-PHI, 0, -1), \n",
    "         vertex(-PHI, 0, 1), ]\n",
    "\n",
    "    faces = [ \n",
    "        # 5 faces around point 0 \n",
    "        [0, 11, 5], \n",
    "        [0, 5, 1], \n",
    "        [0, 1, 7], \n",
    "        [0, 7, 10], \n",
    "        [0, 10, 11], \n",
    "        # Adjacent faces \n",
    "        [1, 5, 9], \n",
    "        [5, 11, 4], \n",
    "        [11, 10, 2], \n",
    "        [10, 7, 6], \n",
    "        [7, 1, 8], \n",
    "        # 5 faces around 3 \n",
    "        [3, 9, 4], \n",
    "        [3, 4, 2], \n",
    "        [3, 2, 6], \n",
    "        [3, 6, 8], \n",
    "        [3, 8, 9], \n",
    "        # Adjacent faces \n",
    "        [4, 9, 5], \n",
    "        [2, 4, 11], \n",
    "        [6, 2, 10], \n",
    "        [8, 6, 7], \n",
    "        [9, 8, 1], \n",
    "    ]\n",
    "    \n",
    "#     # Generate based dots on Sphere surface [12 spheres -> 42 spheres]\n",
    "#     for i in range(subdiv): \n",
    "#         faces_subdiv = [] \n",
    "#         for tri in faces: \n",
    "#             v1 = middle_point(tri[0], tri[1]) \n",
    "#             v2 = middle_point(tri[1], tri[2]) \n",
    "#             v3 = middle_point(tri[2], tri[0]) \n",
    "#             faces_subdiv.append([tri[0], v1, v3]) \n",
    "#             faces_subdiv.append([tri[1], v2, v1]) \n",
    "#             faces_subdiv.append([tri[2], v3, v2]) \n",
    "#             faces_subdiv.append([v1, v2, v3]) \n",
    "#         faces = faces_subdiv\n",
    "\n",
    "    def get_radius(scale, verts):\n",
    "        min_dist = find_min_dist(verts)\n",
    "        d = 0.5 * min_dist / np.cos(np.pi / 6) \n",
    "\n",
    "        x = verts[5]\n",
    "\n",
    "        v = np.random.rand(3)\n",
    "        v = v - np.matmul(v, x) * x\n",
    "        v = v / norm(v) * d\n",
    "\n",
    "        p = np.cos(norm(v)) * x + np.sin(norm(v)) * v / norm(v)\n",
    "\n",
    "        origin = np.array([0, 0, 0])\n",
    "        center = 0.5 * (origin + x)\n",
    "\n",
    "        radius = euclidean_distance(p, center)\n",
    "\n",
    "        return radius\n",
    "    \n",
    "    # Get embedding sphere centers\n",
    "    centers = []\n",
    "    origin = np.array([0, 0, 0])\n",
    "    for vert in verts:\n",
    "        center = 0.5 * (origin + vert)\n",
    "        centers.append(center)\n",
    "    \n",
    "    return centers, radius"
   ]
  },
  {
   "cell_type": "code",
   "execution_count": 21,
   "metadata": {},
   "outputs": [],
   "source": [
    "centers, radius = get_spheres()"
   ]
  },
  {
   "cell_type": "code",
   "execution_count": 22,
   "metadata": {},
   "outputs": [
    {
     "data": {
      "application/vnd.jupyter.widget-view+json": {
       "model_id": "4480542d7caf42fa85129fa2d3b965b3",
       "version_major": 2,
       "version_minor": 0
      },
      "text/plain": [
       "VBox(children=(Figure(camera=PerspectiveCamera(fov=46.0, position=(0.0, 0.0, 2.0), quaternion=(0.0, 0.0, 0.0, …"
      ]
     },
     "metadata": {},
     "output_type": "display_data"
    }
   ],
   "source": [
    "plot_spheres(centers)"
   ]
  },
  {
   "cell_type": "code",
   "execution_count": 23,
   "metadata": {},
   "outputs": [
    {
     "data": {
      "text/plain": [
       "12"
      ]
     },
     "execution_count": 23,
     "metadata": {},
     "output_type": "execute_result"
    }
   ],
   "source": [
    "len(centers)"
   ]
  },
  {
   "cell_type": "code",
   "execution_count": null,
   "metadata": {},
   "outputs": [],
   "source": []
  }
 ],
 "metadata": {
  "kernelspec": {
   "display_name": "Python 3",
   "language": "python",
   "name": "python3"
  },
  "language_info": {
   "codemirror_mode": {
    "name": "ipython",
    "version": 2
   },
   "file_extension": ".py",
   "mimetype": "text/x-python",
   "name": "python",
   "nbconvert_exporter": "python",
   "pygments_lexer": "ipython2",
   "version": "2.7.12"
  }
 },
 "nbformat": 4,
 "nbformat_minor": 2
}
