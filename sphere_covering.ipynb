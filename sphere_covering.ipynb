{
 "cells": [
  {
   "cell_type": "code",
   "execution_count": 3,
   "metadata": {},
   "outputs": [],
   "source": [
    "import numpy as np\n",
    "from math import *\n",
    "import os\n",
    "from os.path import join\n",
    "import bpy\n",
    "import matplotlib\n",
    "import matplotlib.pyplot as plt\n",
    "from mpl_toolkits.mplot3d import Axes3D\n",
    "import ipyvolume as ipv\n",
    "from numpy.linalg import norm\n",
    "import torch\n",
    "import lie_learn.spaces.S2 as S2"
   ]
  },
  {
   "cell_type": "code",
   "execution_count": 3,
   "metadata": {},
   "outputs": [],
   "source": [
    "def create_cube_grid():\n",
    "    x_ = np.linspace(-1., 1., 4)\n",
    "    y_ = np.linspace(-1., 1., 4)\n",
    "    z_ = np.linspace(-1., 1., 4)\n",
    "\n",
    "    x, y, z = np.meshgrid(x_, y_, z_, indexing='ij')\n",
    "\n",
    "    x = x.flatten()\n",
    "    y = y.flatten()\n",
    "    z = z.flatten()\n",
    "    \n",
    "    return x, y, z"
   ]
  },
  {
   "cell_type": "code",
   "execution_count": 4,
   "metadata": {},
   "outputs": [],
   "source": [
    "def create_cube_centers():\n",
    "    x_ = np.linspace(-2/3, 2/3, 3)\n",
    "    y_ = np.linspace(-2/3, 2/3, 3)\n",
    "    z_ = np.linspace(-2/3, 2/3, 3)\n",
    "\n",
    "    x, y, z = np.meshgrid(x_, y_, z_, indexing='ij')\n",
    "\n",
    "    x = x.flatten()\n",
    "    y = y.flatten()\n",
    "    z = z.flatten()\n",
    "    \n",
    "    return x, y, z"
   ]
  },
  {
   "cell_type": "code",
   "execution_count": 143,
   "metadata": {},
   "outputs": [],
   "source": [
    "x_axis, y_axis, z_axis = create_cube_grid()\n",
    "x_axis_, y_axis_, z_axis_ = create_cube_centers()"
   ]
  },
  {
   "cell_type": "code",
   "execution_count": 156,
   "metadata": {},
   "outputs": [
    {
     "data": {
      "application/vnd.jupyter.widget-view+json": {
       "model_id": "f295b5bd565b4ed3a9d21187680d6749",
       "version_major": 2,
       "version_minor": 0
      },
      "text/plain": [
       "VBox(children=(Figure(camera=PerspectiveCamera(fov=46.0, position=(0.0, 0.0, 2.0), quaternion=(0.0, 0.0, 0.0, …"
      ]
     },
     "metadata": {},
     "output_type": "display_data"
    },
    {
     "ename": "AttributeError",
     "evalue": "module 'ipyvolume' has no attribute 'close'",
     "output_type": "error",
     "traceback": [
      "\u001b[0;31m---------------------------------------------------------------------------\u001b[0m",
      "\u001b[0;31mAttributeError\u001b[0m                            Traceback (most recent call last)",
      "\u001b[0;32m<ipython-input-156-d45b19d49e29>\u001b[0m in \u001b[0;36m<module>\u001b[0;34m\u001b[0m\n\u001b[1;32m      4\u001b[0m \u001b[0mipv\u001b[0m\u001b[0;34m.\u001b[0m\u001b[0mshow\u001b[0m\u001b[0;34m(\u001b[0m\u001b[0;34m)\u001b[0m\u001b[0;34m\u001b[0m\u001b[0;34m\u001b[0m\u001b[0m\n\u001b[1;32m      5\u001b[0m \u001b[0mipv\u001b[0m\u001b[0;34m.\u001b[0m\u001b[0msave\u001b[0m\u001b[0;34m(\u001b[0m\u001b[0;34m\"plt.html\"\u001b[0m\u001b[0;34m)\u001b[0m\u001b[0;34m\u001b[0m\u001b[0;34m\u001b[0m\u001b[0m\n\u001b[0;32m----> 6\u001b[0;31m \u001b[0mipv\u001b[0m\u001b[0;34m.\u001b[0m\u001b[0mclose\u001b[0m\u001b[0;34m(\u001b[0m\u001b[0;34m)\u001b[0m\u001b[0;34m\u001b[0m\u001b[0;34m\u001b[0m\u001b[0m\n\u001b[0m",
      "\u001b[0;31mAttributeError\u001b[0m: module 'ipyvolume' has no attribute 'close'"
     ]
    }
   ],
   "source": [
    "fig = ipv.figure()\n",
    "ipv.scatter(x_axis, y_axis, z_axis, marker=\"sphere\", color=\"red\")\n",
    "ipv.scatter(x_axis_, y_axis_, z_axis_, marker=\"sphere\", color=\"blue\")\n",
    "ipv.show()\n",
    "ipv.save(\"plt.html\")"
   ]
  },
  {
   "cell_type": "code",
   "execution_count": 145,
   "metadata": {},
   "outputs": [],
   "source": [
    "centers = np.array(list(zip(x_axis_, y_axis_, z_axis_)))"
   ]
  },
  {
   "cell_type": "code",
   "execution_count": 146,
   "metadata": {},
   "outputs": [
    {
     "data": {
      "application/vnd.jupyter.widget-view+json": {
       "model_id": "1ac3858bbb3a44cdbbab8ff4cab323c9",
       "version_major": 2,
       "version_minor": 0
      },
      "text/plain": [
       "VBox(children=(Figure(camera=PerspectiveCamera(fov=46.0, position=(0.0, 0.0, 2.0), quaternion=(0.0, 0.0, 0.0, …"
      ]
     },
     "metadata": {},
     "output_type": "display_data"
    }
   ],
   "source": [
    "fig = ipv.figure()\n",
    "R = 2 * 1/3 * np.sqrt(3) * 1/2\n",
    "for center in centers:\n",
    "    x = R * np.outer(np.cos(u), np.sin(v)) + center[0]\n",
    "    y = R * np.outer(np.sin(u), np.sin(v))  + center[1]\n",
    "    z = R * np.outer(np.ones(np.size(u)), np.cos(v)) + center[2]\n",
    "    ipv.plot_mesh(x, y, z, u=y, v=x, wireframe=False, color=\"red\")\n",
    "ipv.show()"
   ]
  },
  {
   "cell_type": "code",
   "execution_count": 147,
   "metadata": {},
   "outputs": [],
   "source": []
  },
  {
   "cell_type": "code",
   "execution_count": 182,
   "metadata": {},
   "outputs": [],
   "source": [
    "def get_grids(b, num_grids, base_radius=1, center=[0, 0, 0], grid_type=\"Driscoll-Healy\"):\n",
    "    \"\"\"\n",
    "    :param b: the number of grids on the sphere\n",
    "    :param base_radius: the radius of each sphere\n",
    "    :param grid_type: \"Driscoll-Healy\"\n",
    "    :param num_grids: number of grids\n",
    "    :return: [(radius, tensor([2b, 2b, 3])) * num_grids]\n",
    "    \"\"\"\n",
    "\n",
    "    grids = list()\n",
    "    radiuses = [round(i, 2) for i in list(np.linspace(0, base_radius, num_grids + 1))[1:]]\n",
    "\n",
    "    # Each grid has differet radius, the radiuses are distributed uniformly based on number\n",
    "    for radius in radiuses:\n",
    "\n",
    "        # theta in shape (2b, 2b), range [0, pi]; phi range [0, 2 * pi]\n",
    "        theta, phi = S2.meshgrid(b=b, grid_type=grid_type)\n",
    "        theta = torch.from_numpy(theta)\n",
    "        phi = torch.from_numpy(phi)\n",
    "\n",
    "        # x will be reshaped to have one dimension of 1, then can broadcast\n",
    "        # look this link for more information: https://pytorch.org/docs/stable/notes/broadcasting.html\n",
    "        x_ = radius * torch.sin(theta) * torch.cos(phi)\n",
    "        x = x_.reshape((1, 4 * b * b))  # tensor -> [1, 4 * b * b]\n",
    "        x = x + center[0]\n",
    "\n",
    "        y_ = radius * torch.sin(theta) * torch.sin(phi)\n",
    "        y = y_.reshape((1, 4 * b * b))\n",
    "        y = y + center[1]\n",
    "\n",
    "        z_ = radius * torch.cos(theta)\n",
    "        z = z_.reshape((1, 4 * b * b))\n",
    "        z = z + center[2]\n",
    "\n",
    "        grid = torch.cat((x, y, z), dim=0)  # -> [3, 4b^2]\n",
    "        grid = grid.transpose(0, 1)  # -> [4b^2, 3]\n",
    "\n",
    "        grid = grid.view(2 * b, 2 * b, 3)  # -> [2b, 2b, 3]\n",
    "        grid = grid.float().cuda()\n",
    "\n",
    "        grids.append( (radius, grid) )\n",
    "\n",
    "    assert len(grids) == num_grids\n",
    "    return grids\n",
    "\n",
    "\n",
    "def get_cube_grids(b, num_grids, base_radius):\n",
    "    # Create sphere centers\n",
    "    x_ = np.linspace(-2/3, 2/3, 3)\n",
    "    y_ = np.linspace(-2/3, 2/3, 3)\n",
    "    z_ = np.linspace(-2/3, 2/3, 3)\n",
    "\n",
    "    x, y, z = np.meshgrid(x_, y_, z_, indexing='ij')\n",
    "\n",
    "    x = x.flatten()\n",
    "    y = y.flatten()\n",
    "    z = z.flatten()\n",
    "    \n",
    "    centers = np.array(list(zip(x, y, z)))\n",
    "    \n",
    "    # Create grids based on each center\n",
    "    all_grids = []\n",
    "    R = 2 * base_radius * 1/3 * np.sqrt(3) * 1/2\n",
    "    for center in centers:\n",
    "        grids = [grid for radius, grid in get_grids(b, num_grids, base_radius=R, center=center)]\n",
    "        grids = torch.stack(grids, dim=0) # tensor -> [num_grids, 2b, 2b, 3]\n",
    "        all_grids.append(grids)\n",
    "    all_grids = torch.stack(all_grids, dim=0) # tensor -> [num_centers, num_grids, 2b, 2b, 3]\n",
    "    return all_grids"
   ]
  },
  {
   "cell_type": "code",
   "execution_count": 183,
   "metadata": {},
   "outputs": [
    {
     "name": "stdout",
     "output_type": "stream",
     "text": [
      "torch.Size([27, 3, 10, 10, 3])\n",
      "torch.Size([3, 27, 10, 10, 3])\n"
     ]
    }
   ],
   "source": [
    "grids = get_cube_grids(b=5, num_grids=3, base_radius=1)\n",
    "print(grids.shape)\n",
    "grids = grids.transpose(0, 1)\n",
    "print(grids.shape)"
   ]
  },
  {
   "cell_type": "code",
   "execution_count": 27,
   "metadata": {},
   "outputs": [
    {
     "data": {
      "application/vnd.jupyter.widget-view+json": {
       "model_id": "a0c187eee42440479c1a6514a87bce70",
       "version_major": 2,
       "version_minor": 0
      },
      "text/plain": [
       "VBox(children=(Figure(camera=PerspectiveCamera(fov=46.0, position=(0.0, 0.0, 2.0), quaternion=(0.0, 0.0, 0.0, …"
      ]
     },
     "metadata": {},
     "output_type": "display_data"
    }
   ],
   "source": [
    "colors = [\"#7b0001\", \"#ff0001\", \"#ff8db4\"]\n",
    "fig = ipv.figure()\n",
    "for i, layer in enumerate(grids):\n",
    "    layer = layer.reshape(-1, 3).transpose(0, 1)\n",
    "    x_axis = layer[0, :].cpu().numpy()\n",
    "    y_axis = layer[1, :].cpu().numpy()\n",
    "    z_axis = layer[2, :].cpu().numpy()\n",
    "    c = matplotlib.cm.afmhot(np.linspace(0, 1, len(x_axis)))\n",
    "    ipv.scatter(x_axis, y_axis, z_axis, marker=\"sphere\", color=c)\n",
    "ipv.show()"
   ]
  },
  {
   "cell_type": "code",
   "execution_count": 30,
   "metadata": {},
   "outputs": [
    {
     "data": {
      "text/plain": [
       "array([[0.7372549 , 0.2372549 , 0.        , 1.        ],\n",
       "       [0.7372549 , 0.2372549 , 0.        , 1.        ],\n",
       "       [0.74509804, 0.24509804, 0.        , 1.        ],\n",
       "       [0.74509804, 0.24509804, 0.        , 1.        ],\n",
       "       [0.74509804, 0.24509804, 0.        , 1.        ]])"
      ]
     },
     "execution_count": 30,
     "metadata": {},
     "output_type": "execute_result"
    }
   ],
   "source": [
    "c[1000:1005, :]"
   ]
  },
  {
   "cell_type": "code",
   "execution_count": null,
   "metadata": {},
   "outputs": [],
   "source": []
  },
  {
   "cell_type": "code",
   "execution_count": null,
   "metadata": {},
   "outputs": [],
   "source": []
  },
  {
   "cell_type": "code",
   "execution_count": 1,
   "metadata": {},
   "outputs": [],
   "source": [
    "def rotate_random(deflection=1.0, randnums=None):\n",
    "    \"\"\"\n",
    "    Creates a random rotation matrix.\n",
    "    \n",
    "    deflection: the magnitude of the rotation. For 0, no rotation; for 1, competely random\n",
    "    rotation. Small deflection => small perturbation.\n",
    "    randnums: 3 random numbers in the range [0, 1]. If `None`, they will be auto-generated.\n",
    "    \"\"\"\n",
    "    # from http://www.realtimerendering.com/resources/GraphicsGems/gemsiii/rand_rotation.c\n",
    "    \n",
    "    if randnums is None:\n",
    "        randnums = np.random.uniform(size=(3,))\n",
    "        \n",
    "    theta, phi, z = randnums\n",
    "    \n",
    "    theta = theta * 2.0*deflection*np.pi  # Rotation about the pole (Z).\n",
    "    phi = phi * 2.0*np.pi  # For direction of pole deflection.\n",
    "    z = z * 2.0*deflection  # For magnitude of pole deflection.\n",
    "    \n",
    "    # Compute a vector V used for distributing points over the sphere\n",
    "    # via the reflection I - V Transpose(V).  This formulation of V\n",
    "    # will guarantee that if x[1] and x[2] are uniformly distributed,\n",
    "    # the reflected points will be uniform on the sphere.  Note that V\n",
    "    # has length sqrt(2) to eliminate the 2 in the Householder matrix.\n",
    "    \n",
    "    r = np.sqrt(z)\n",
    "    Vx, Vy, Vz = V = (\n",
    "        np.sin(phi) * r,\n",
    "        np.cos(phi) * r,\n",
    "        np.sqrt(2.0 - z)\n",
    "        )\n",
    "    \n",
    "    st = np.sin(theta)\n",
    "    ct = np.cos(theta)\n",
    "    \n",
    "    R = np.array(((ct, st, 0), (-st, ct, 0), (0, 0, 1)))\n",
    "    \n",
    "    # Construct the rotation matrix  ( V Transpose(V) - I ) R.\n",
    "    \n",
    "    M = (np.outer(V, V) - np.eye(3)).dot(R)\n",
    "    return M\n"
   ]
  },
  {
   "cell_type": "code",
   "execution_count": 4,
   "metadata": {},
   "outputs": [
    {
     "data": {
      "text/plain": [
       "array([[-0.55074153,  0.40192167, -0.7315345 ],\n",
       "       [-0.40121719,  0.6410572 ,  0.65427092],\n",
       "       [ 0.73192112,  0.65383839, -0.19179894]])"
      ]
     },
     "execution_count": 4,
     "metadata": {},
     "output_type": "execute_result"
    }
   ],
   "source": [
    "rotate_random()"
   ]
  },
  {
   "cell_type": "code",
   "execution_count": 7,
   "metadata": {},
   "outputs": [],
   "source": [
    "def get_spheres(scale=1, subdiv=1, radius=0.562):\n",
    "    middle_point_cache = {}\n",
    "    \n",
    "    def vertex(x, y, z):\n",
    "        \"\"\" Return vertex coordinates fixed to the unit sphere \"\"\"\n",
    "        length = np.sqrt(x**2 + y**2 + z**2)\n",
    "        return [(i * scale) / length for i in (x,y,z)]\n",
    "\n",
    "\n",
    "    def middle_point(point_1, point_2):\n",
    "        \"\"\" Find a middle point and project to the unit sphere \"\"\"\n",
    "        smaller_index = min(point_1, point_2)\n",
    "        greater_index = max(point_1, point_2)\n",
    "\n",
    "        key = \"{0}-{1}\".format(smaller_index, greater_index)\n",
    "\n",
    "        if key in middle_point_cache:\n",
    "            return middle_point_cache[key]\n",
    "\n",
    "        # If it's not in cache, then we can cut it\n",
    "        vert_1 = verts[point_1]\n",
    "        vert_2 = verts[point_2]\n",
    "        middle = [sum(i)/2 for i in zip(vert_1, vert_2)]\n",
    "\n",
    "        verts.append(vertex(*middle))\n",
    "\n",
    "        index = len(verts) - 1\n",
    "        middle_point_cache[key] = index\n",
    "\n",
    "        return index\n",
    "\n",
    "    PHI = (1 + np.sqrt(5)) / 2\n",
    "\n",
    "    verts = [ vertex(-1, PHI, 0), \n",
    "         vertex( 1, PHI, 0), \n",
    "         vertex(-1, -PHI, 0), \n",
    "         vertex( 1, -PHI, 0), \n",
    "         vertex(0, -1, PHI), \n",
    "         vertex(0, 1, PHI), \n",
    "         vertex(0, -1, -PHI), \n",
    "         vertex(0, 1, -PHI), \n",
    "         vertex( PHI, 0, -1), \n",
    "         vertex( PHI, 0, 1), \n",
    "         vertex(-PHI, 0, -1), \n",
    "         vertex(-PHI, 0, 1), ]\n",
    "\n",
    "    faces = [ \n",
    "        # 5 faces around point 0 \n",
    "        [0, 11, 5], \n",
    "        [0, 5, 1], \n",
    "        [0, 1, 7], \n",
    "        [0, 7, 10], \n",
    "        [0, 10, 11], \n",
    "        # Adjacent faces \n",
    "        [1, 5, 9], \n",
    "        [5, 11, 4], \n",
    "        [11, 10, 2], \n",
    "        [10, 7, 6], \n",
    "        [7, 1, 8], \n",
    "        # 5 faces around 3 \n",
    "        [3, 9, 4], \n",
    "        [3, 4, 2], \n",
    "        [3, 2, 6], \n",
    "        [3, 6, 8], \n",
    "        [3, 8, 9], \n",
    "        # Adjacent faces \n",
    "        [4, 9, 5], \n",
    "        [2, 4, 11], \n",
    "        [6, 2, 10], \n",
    "        [8, 6, 7], \n",
    "        [9, 8, 1], \n",
    "    ]\n",
    "    \n",
    "    # Generate based dots on Sphere surface\n",
    "    for i in range(subdiv): \n",
    "        faces_subdiv = [] \n",
    "        for tri in faces: \n",
    "            v1 = middle_point(tri[0], tri[1]) \n",
    "            v2 = middle_point(tri[1], tri[2]) \n",
    "            v3 = middle_point(tri[2], tri[0]) \n",
    "            faces_subdiv.append([tri[0], v1, v3]) \n",
    "            faces_subdiv.append([tri[1], v2, v1]) \n",
    "            faces_subdiv.append([tri[2], v3, v2]) \n",
    "            faces_subdiv.append([v1, v2, v3]) \n",
    "        faces = faces_subdiv\n",
    "\n",
    "    def get_radius(scale, verts):\n",
    "        min_dist = find_min_dist(verts)\n",
    "        d = 0.5 * min_dist / np.cos(np.pi / 6) \n",
    "\n",
    "        x = verts[5]\n",
    "\n",
    "        v = np.random.rand(3)\n",
    "        v = v - np.matmul(v, x) * x\n",
    "        v = v / norm(v) * d\n",
    "\n",
    "        p = np.cos(norm(v)) * x + np.sin(norm(v)) * v / norm(v)\n",
    "\n",
    "        origin = np.array([0, 0, 0])\n",
    "        center = 0.5 * (origin + x)\n",
    "\n",
    "        radius = euclidean_distance(p, center)\n",
    "\n",
    "        return radius\n",
    "    \n",
    "    # Get embedding sphere centers\n",
    "    centers = []\n",
    "    origin = np.array([0, 0, 0])\n",
    "    for vert in verts:\n",
    "        center = 0.5 * (origin + vert)\n",
    "        centers.append(center)\n",
    "    \n",
    "    return centers, radius"
   ]
  },
  {
   "cell_type": "code",
   "execution_count": 8,
   "metadata": {},
   "outputs": [],
   "source": [
    "centers, radius = get_spheres()"
   ]
  },
  {
   "cell_type": "code",
   "execution_count": null,
   "metadata": {},
   "outputs": [],
   "source": []
  }
 ],
 "metadata": {
  "kernelspec": {
   "display_name": "Python 3",
   "language": "python",
   "name": "python3"
  },
  "language_info": {
   "codemirror_mode": {
    "name": "ipython",
    "version": 3
   },
   "file_extension": ".py",
   "mimetype": "text/x-python",
   "name": "python",
   "nbconvert_exporter": "python",
   "pygments_lexer": "ipython3",
   "version": "3.7.3"
  }
 },
 "nbformat": 4,
 "nbformat_minor": 2
}
