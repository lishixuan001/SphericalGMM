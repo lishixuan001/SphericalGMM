{
 "cells": [
  {
   "cell_type": "code",
   "execution_count": 83,
   "metadata": {},
   "outputs": [],
   "source": [
    "import numpy as np\n",
    "from math import *\n",
    "import os\n",
    "from os.path import join\n",
    "import bpy\n",
    "import matplotlib.pyplot as plt\n",
    "from mpl_toolkits.mplot3d import Axes3D\n",
    "import ipyvolume as ipv"
   ]
  },
  {
   "cell_type": "code",
   "execution_count": null,
   "metadata": {},
   "outputs": [],
   "source": [
    "scale = 1\n",
    "subdiv = 1\n",
    "name = \"mesh\"\n",
    "middle_point_cache = {}"
   ]
  },
  {
   "cell_type": "code",
   "execution_count": null,
   "metadata": {},
   "outputs": [],
   "source": [
    "def vertex(x, y, z):\n",
    "    \"\"\" Return vertex coordinates fixed to the unit sphere \"\"\"\n",
    "    length = np.sqrt(x**2 + y**2 + z**2)\n",
    "    return [(i * scale) / length for i in (x,y,z)]"
   ]
  },
  {
   "cell_type": "code",
   "execution_count": null,
   "metadata": {},
   "outputs": [],
   "source": [
    "def middle_point(point_1, point_2):\n",
    "    \"\"\" Find a middle point and project to the unit sphere \"\"\"\n",
    "    smaller_index = min(point_1, point_2)\n",
    "    greater_index = max(point_1, point_2)\n",
    "    \n",
    "    key = \"{0}-{1}\".format(smaller_index, greater_index)\n",
    "    \n",
    "    if key in middle_point_cache:\n",
    "        return middle_point_cache[key]\n",
    "    \n",
    "    # If it's not in cache, then we can cut it\n",
    "    vert_1 = verts[point_1]\n",
    "    vert_2 = verts[point_2]\n",
    "    middle = [sum(i)/2 for i in zip(vert_1, vert_2)]\n",
    "    \n",
    "    verts.append(vertex(*middle))\n",
    "    \n",
    "    index = len(verts) - 1\n",
    "    middle_point_cache[key] = index\n",
    "    \n",
    "    return index"
   ]
  },
  {
   "cell_type": "code",
   "execution_count": null,
   "metadata": {},
   "outputs": [],
   "source": [
    "PHI = (1 + np.sqrt(5)) / 2"
   ]
  },
  {
   "cell_type": "code",
   "execution_count": null,
   "metadata": {},
   "outputs": [],
   "source": [
    "verts = [ vertex(-1, PHI, 0), \n",
    "         vertex( 1, PHI, 0), \n",
    "         vertex(-1, -PHI, 0), \n",
    "         vertex( 1, -PHI, 0), \n",
    "         vertex(0, -1, PHI), \n",
    "         vertex(0, 1, PHI), \n",
    "         vertex(0, -1, -PHI), \n",
    "         vertex(0, 1, -PHI), \n",
    "         vertex( PHI, 0, -1), \n",
    "         vertex( PHI, 0, 1), \n",
    "         vertex(-PHI, 0, -1), \n",
    "         vertex(-PHI, 0, 1), ]"
   ]
  },
  {
   "cell_type": "code",
   "execution_count": null,
   "metadata": {},
   "outputs": [],
   "source": [
    "faces = [ \n",
    "    # 5 faces around point 0 \n",
    "    [0, 11, 5], \n",
    "    [0, 5, 1], \n",
    "    [0, 1, 7], \n",
    "    [0, 7, 10], \n",
    "    [0, 10, 11], \n",
    "    # Adjacent faces \n",
    "    [1, 5, 9], \n",
    "    [5, 11, 4], \n",
    "    [11, 10, 2], \n",
    "    [10, 7, 6], \n",
    "    [7, 1, 8], \n",
    "    # 5 faces around 3 \n",
    "    [3, 9, 4], \n",
    "    [3, 4, 2], \n",
    "    [3, 2, 6], \n",
    "    [3, 6, 8], \n",
    "    [3, 8, 9], \n",
    "    # Adjacent faces \n",
    "    [4, 9, 5], \n",
    "    [2, 4, 11], \n",
    "    [6, 2, 10], \n",
    "    [8, 6, 7], \n",
    "    [9, 8, 1], \n",
    "]"
   ]
  },
  {
   "cell_type": "code",
   "execution_count": null,
   "metadata": {},
   "outputs": [],
   "source": [
    "for i in range(subdiv):\n",
    "    faces_subdiv = []\n",
    "    \n",
    "    for tri in faces:\n",
    "        v1 = middle_point(tri[0], tri[1])\n",
    "        v2 = middle_point(tri[1], tri[2])\n",
    "        v3 = middle_point(tri[2], tri[0])\n",
    "        \n",
    "        faces_subdiv.append([tri[0], v1, v3])\n",
    "        faces_subdiv.append([tri[1], v2, v1])\n",
    "        faces_subdiv.append([tri[2], v3, v2])\n",
    "        faces_subdiv.append([v1, v2, v3])\n",
    "    \n",
    "    faces = faces_subdiv"
   ]
  },
  {
   "cell_type": "code",
   "execution_count": 106,
   "metadata": {},
   "outputs": [],
   "source": [
    "mesh = bpy.data.meshes.new(name)\n",
    "mesh.from_pydata(verts, [], faces)\n",
    "\n",
    "obj = bpy.data.objects.new(name, mesh)\n",
    "bpy.context.collection.objects.link(obj)\n",
    "\n",
    "bpy.context.view_layer.objects.active = obj\n",
    "bpy.context.active_object.select_set(state=True)"
   ]
  },
  {
   "cell_type": "code",
   "execution_count": 107,
   "metadata": {},
   "outputs": [],
   "source": [
    "for face in mesh.polygons:\n",
    "    face.use_smooth = True"
   ]
  },
  {
   "cell_type": "code",
   "execution_count": null,
   "metadata": {},
   "outputs": [],
   "source": [
    "x_axis = np.array([point[0] for point in verts])\n",
    "y_axis = np.array([point[1] for point in verts])\n",
    "z_axis = np.array([point[2] for point in verts])"
   ]
  },
  {
   "cell_type": "code",
   "execution_count": null,
   "metadata": {},
   "outputs": [],
   "source": [
    "fig = ipv.figure()\n",
    "scatter = ipv.scatter(x_axis, y_axis, z_axis, marker=\"sphere\")\n",
    "ipv.show()\n",
    "ipv.save(\"plt.html\")"
   ]
  },
  {
   "cell_type": "code",
   "execution_count": 86,
   "metadata": {},
   "outputs": [],
   "source": []
  },
  {
   "cell_type": "code",
   "execution_count": null,
   "metadata": {},
   "outputs": [],
   "source": []
  },
  {
   "cell_type": "code",
   "execution_count": null,
   "metadata": {},
   "outputs": [],
   "source": []
  },
  {
   "cell_type": "code",
   "execution_count": null,
   "metadata": {},
   "outputs": [],
   "source": []
  }
 ],
 "metadata": {
  "kernelspec": {
   "display_name": "Python 3",
   "language": "python",
   "name": "python3"
  },
  "language_info": {
   "codemirror_mode": {
    "name": "ipython",
    "version": 3
   },
   "file_extension": ".py",
   "mimetype": "text/x-python",
   "name": "python",
   "nbconvert_exporter": "python",
   "pygments_lexer": "ipython3",
   "version": "3.7.3"
  }
 },
 "nbformat": 4,
 "nbformat_minor": 2
}
