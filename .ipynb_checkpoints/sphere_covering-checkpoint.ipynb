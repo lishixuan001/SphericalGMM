{
 "cells": [
  {
   "cell_type": "code",
   "execution_count": 2,
   "metadata": {},
   "outputs": [],
   "source": [
    "import numpy as np\n",
    "from math import *\n",
    "import os\n",
    "from os.path import join\n",
    "import bpy\n",
    "import matplotlib.pyplot as plt\n",
    "from mpl_toolkits.mplot3d import Axes3D\n",
    "import ipyvolume as ipv\n",
    "from numpy.linalg import norm\n",
    "import torch\n",
    "import lie_learn.spaces.S2 as S2"
   ]
  },
  {
   "cell_type": "code",
   "execution_count": 3,
   "metadata": {},
   "outputs": [],
   "source": [
    "def create_cube_grid():\n",
    "    x_ = np.linspace(-1., 1., 4)\n",
    "    y_ = np.linspace(-1., 1., 4)\n",
    "    z_ = np.linspace(-1., 1., 4)\n",
    "\n",
    "    x, y, z = np.meshgrid(x_, y_, z_, indexing='ij')\n",
    "\n",
    "    x = x.flatten()\n",
    "    y = y.flatten()\n",
    "    z = z.flatten()\n",
    "    \n",
    "    return x, y, z"
   ]
  },
  {
   "cell_type": "code",
   "execution_count": 4,
   "metadata": {},
   "outputs": [],
   "source": [
    "def create_cube_centers():\n",
    "    x_ = np.linspace(-2/3, 2/3, 3)\n",
    "    y_ = np.linspace(-2/3, 2/3, 3)\n",
    "    z_ = np.linspace(-2/3, 2/3, 3)\n",
    "\n",
    "    x, y, z = np.meshgrid(x_, y_, z_, indexing='ij')\n",
    "\n",
    "    x = x.flatten()\n",
    "    y = y.flatten()\n",
    "    z = z.flatten()\n",
    "    \n",
    "    return x, y, z"
   ]
  },
  {
   "cell_type": "code",
   "execution_count": 143,
   "metadata": {},
   "outputs": [],
   "source": [
    "x_axis, y_axis, z_axis = create_cube_grid()\n",
    "x_axis_, y_axis_, z_axis_ = create_cube_centers()"
   ]
  },
  {
   "cell_type": "code",
   "execution_count": 156,
   "metadata": {},
   "outputs": [
    {
     "data": {
      "application/vnd.jupyter.widget-view+json": {
       "model_id": "f295b5bd565b4ed3a9d21187680d6749",
       "version_major": 2,
       "version_minor": 0
      },
      "text/plain": [
       "VBox(children=(Figure(camera=PerspectiveCamera(fov=46.0, position=(0.0, 0.0, 2.0), quaternion=(0.0, 0.0, 0.0, …"
      ]
     },
     "metadata": {},
     "output_type": "display_data"
    },
    {
     "ename": "AttributeError",
     "evalue": "module 'ipyvolume' has no attribute 'close'",
     "output_type": "error",
     "traceback": [
      "\u001b[0;31m---------------------------------------------------------------------------\u001b[0m",
      "\u001b[0;31mAttributeError\u001b[0m                            Traceback (most recent call last)",
      "\u001b[0;32m<ipython-input-156-d45b19d49e29>\u001b[0m in \u001b[0;36m<module>\u001b[0;34m\u001b[0m\n\u001b[1;32m      4\u001b[0m \u001b[0mipv\u001b[0m\u001b[0;34m.\u001b[0m\u001b[0mshow\u001b[0m\u001b[0;34m(\u001b[0m\u001b[0;34m)\u001b[0m\u001b[0;34m\u001b[0m\u001b[0;34m\u001b[0m\u001b[0m\n\u001b[1;32m      5\u001b[0m \u001b[0mipv\u001b[0m\u001b[0;34m.\u001b[0m\u001b[0msave\u001b[0m\u001b[0;34m(\u001b[0m\u001b[0;34m\"plt.html\"\u001b[0m\u001b[0;34m)\u001b[0m\u001b[0;34m\u001b[0m\u001b[0;34m\u001b[0m\u001b[0m\n\u001b[0;32m----> 6\u001b[0;31m \u001b[0mipv\u001b[0m\u001b[0;34m.\u001b[0m\u001b[0mclose\u001b[0m\u001b[0;34m(\u001b[0m\u001b[0;34m)\u001b[0m\u001b[0;34m\u001b[0m\u001b[0;34m\u001b[0m\u001b[0m\n\u001b[0m",
      "\u001b[0;31mAttributeError\u001b[0m: module 'ipyvolume' has no attribute 'close'"
     ]
    }
   ],
   "source": [
    "fig = ipv.figure()\n",
    "ipv.scatter(x_axis, y_axis, z_axis, marker=\"sphere\", color=\"red\")\n",
    "ipv.scatter(x_axis_, y_axis_, z_axis_, marker=\"sphere\", color=\"blue\")\n",
    "ipv.show()\n",
    "ipv.save(\"plt.html\")"
   ]
  },
  {
   "cell_type": "code",
   "execution_count": 145,
   "metadata": {},
   "outputs": [],
   "source": [
    "centers = np.array(list(zip(x_axis_, y_axis_, z_axis_)))"
   ]
  },
  {
   "cell_type": "code",
   "execution_count": 146,
   "metadata": {},
   "outputs": [
    {
     "data": {
      "application/vnd.jupyter.widget-view+json": {
       "model_id": "1ac3858bbb3a44cdbbab8ff4cab323c9",
       "version_major": 2,
       "version_minor": 0
      },
      "text/plain": [
       "VBox(children=(Figure(camera=PerspectiveCamera(fov=46.0, position=(0.0, 0.0, 2.0), quaternion=(0.0, 0.0, 0.0, …"
      ]
     },
     "metadata": {},
     "output_type": "display_data"
    }
   ],
   "source": [
    "fig = ipv.figure()\n",
    "R = 2 * 1/3 * np.sqrt(3) * 1/2\n",
    "for center in centers:\n",
    "    x = R * np.outer(np.cos(u), np.sin(v)) + center[0]\n",
    "    y = R * np.outer(np.sin(u), np.sin(v))  + center[1]\n",
    "    z = R * np.outer(np.ones(np.size(u)), np.cos(v)) + center[2]\n",
    "    ipv.plot_mesh(x, y, z, u=y, v=x, wireframe=False, color=\"red\")\n",
    "ipv.show()"
   ]
  },
  {
   "cell_type": "code",
   "execution_count": 147,
   "metadata": {},
   "outputs": [],
   "source": []
  },
  {
   "cell_type": "code",
   "execution_count": 182,
   "metadata": {},
   "outputs": [],
   "source": [
    "def get_grids(b, num_grids, base_radius=1, center=[0, 0, 0], grid_type=\"Driscoll-Healy\"):\n",
    "    \"\"\"\n",
    "    :param b: the number of grids on the sphere\n",
    "    :param base_radius: the radius of each sphere\n",
    "    :param grid_type: \"Driscoll-Healy\"\n",
    "    :param num_grids: number of grids\n",
    "    :return: [(radius, tensor([2b, 2b, 3])) * num_grids]\n",
    "    \"\"\"\n",
    "\n",
    "    grids = list()\n",
    "    radiuses = [round(i, 2) for i in list(np.linspace(0, base_radius, num_grids + 1))[1:]]\n",
    "\n",
    "    # Each grid has differet radius, the radiuses are distributed uniformly based on number\n",
    "    for radius in radiuses:\n",
    "\n",
    "        # theta in shape (2b, 2b), range [0, pi]; phi range [0, 2 * pi]\n",
    "        theta, phi = S2.meshgrid(b=b, grid_type=grid_type)\n",
    "        theta = torch.from_numpy(theta)\n",
    "        phi = torch.from_numpy(phi)\n",
    "\n",
    "        # x will be reshaped to have one dimension of 1, then can broadcast\n",
    "        # look this link for more information: https://pytorch.org/docs/stable/notes/broadcasting.html\n",
    "        x_ = radius * torch.sin(theta) * torch.cos(phi)\n",
    "        x = x_.reshape((1, 4 * b * b))  # tensor -> [1, 4 * b * b]\n",
    "        x = x + center[0]\n",
    "\n",
    "        y_ = radius * torch.sin(theta) * torch.sin(phi)\n",
    "        y = y_.reshape((1, 4 * b * b))\n",
    "        y = y + center[1]\n",
    "\n",
    "        z_ = radius * torch.cos(theta)\n",
    "        z = z_.reshape((1, 4 * b * b))\n",
    "        z = z + center[2]\n",
    "\n",
    "        grid = torch.cat((x, y, z), dim=0)  # -> [3, 4b^2]\n",
    "        grid = grid.transpose(0, 1)  # -> [4b^2, 3]\n",
    "\n",
    "        grid = grid.view(2 * b, 2 * b, 3)  # -> [2b, 2b, 3]\n",
    "        grid = grid.float().cuda()\n",
    "\n",
    "        grids.append( (radius, grid) )\n",
    "\n",
    "    assert len(grids) == num_grids\n",
    "    return grids\n",
    "\n",
    "\n",
    "def get_cube_grids(b, num_grids, base_radius):\n",
    "    # Create sphere centers\n",
    "    x_ = np.linspace(-2/3, 2/3, 3)\n",
    "    y_ = np.linspace(-2/3, 2/3, 3)\n",
    "    z_ = np.linspace(-2/3, 2/3, 3)\n",
    "\n",
    "    x, y, z = np.meshgrid(x_, y_, z_, indexing='ij')\n",
    "\n",
    "    x = x.flatten()\n",
    "    y = y.flatten()\n",
    "    z = z.flatten()\n",
    "    \n",
    "    centers = np.array(list(zip(x, y, z)))\n",
    "    \n",
    "    # Create grids based on each center\n",
    "    all_grids = []\n",
    "    R = 2 * base_radius * 1/3 * np.sqrt(3) * 1/2\n",
    "    for center in centers:\n",
    "        grids = [grid for radius, grid in get_grids(b, num_grids, base_radius=R, center=center)]\n",
    "        grids = torch.stack(grids, dim=0) # tensor -> [num_grids, 2b, 2b, 3]\n",
    "        all_grids.append(grids)\n",
    "    all_grids = torch.stack(all_grids, dim=0) # tensor -> [num_centers, num_grids, 2b, 2b, 3]\n",
    "    return all_grids"
   ]
  },
  {
   "cell_type": "code",
   "execution_count": 183,
   "metadata": {},
   "outputs": [
    {
     "name": "stdout",
     "output_type": "stream",
     "text": [
      "torch.Size([27, 3, 10, 10, 3])\n",
      "torch.Size([3, 27, 10, 10, 3])\n"
     ]
    }
   ],
   "source": [
    "grids = get_cube_grids(b=5, num_grids=3, base_radius=1)\n",
    "print(grids.shape)\n",
    "grids = grids.transpose(0, 1)\n",
    "print(grids.shape)"
   ]
  },
  {
   "cell_type": "code",
   "execution_count": 24,
   "metadata": {},
   "outputs": [
    {
     "data": {
      "application/vnd.jupyter.widget-view+json": {
       "model_id": "ab72f96f58a941daa3c7b3f20949da47",
       "version_major": 2,
       "version_minor": 0
      },
      "text/plain": [
       "VBox(children=(Figure(camera=PerspectiveCamera(fov=46.0, position=(0.0, 0.0, 2.0), quaternion=(0.0, 0.0, 0.0, …"
      ]
     },
     "metadata": {},
     "output_type": "display_data"
    }
   ],
   "source": [
    "colors = [\"#7b0001\", \"#ff0001\", \"#ff8db4\"]\n",
    "fig = ipv.figure()\n",
    "for i, layer in enumerate(grids):\n",
    "    layer = layer.reshape(-1, 3).transpose(0, 1)\n",
    "    x_axis = layer[0, :].cpu().numpy()\n",
    "    y_axis = layer[1, :].cpu().numpy()\n",
    "    z_axis = layer[2, :].cpu().numpy()\n",
    "    c = matplotlib.cm.afmhot(np.linspace(0, 1, len(x_axis)))\n",
    "    ipv.scatter(x_axis, y_axis, z_axis, marker=\"sphere\", color=colors[i])\n",
    "ipv.show()\n",
    "ipv.save(\"./imgs/grid/cube_grids.html\")"
   ]
  },
  {
   "cell_type": "code",
   "execution_count": 187,
   "metadata": {},
   "outputs": [],
   "source": [
    "base_radius = 1\n",
    "num_grids = 3\n",
    "radiuses = [round(i, 2) for i in list(np.linspace(0, base_radius, num_grids + 1))[1:]]"
   ]
  },
  {
   "cell_type": "code",
   "execution_count": 5,
   "metadata": {},
   "outputs": [],
   "source": [
    "base_radius = 1\n",
    "cube_size = 2\n",
    "x_ = np.linspace(-2 * base_radius/cube_size, 2 * base_radius/cube_size, cube_size)"
   ]
  },
  {
   "cell_type": "code",
   "execution_count": 6,
   "metadata": {},
   "outputs": [
    {
     "data": {
      "text/plain": [
       "array([-1.,  1.])"
      ]
     },
     "execution_count": 6,
     "metadata": {},
     "output_type": "execute_result"
    }
   ],
   "source": [
    "x_"
   ]
  },
  {
   "cell_type": "code",
   "execution_count": 7,
   "metadata": {},
   "outputs": [
    {
     "data": {
      "text/plain": [
       "0.8660254037844386"
      ]
     },
     "execution_count": 7,
     "metadata": {},
     "output_type": "execute_result"
    }
   ],
   "source": [
    " 2 * base_radius * 1/cube_size * np.sqrt(3) * 1/2"
   ]
  },
  {
   "cell_type": "code",
   "execution_count": 9,
   "metadata": {},
   "outputs": [],
   "source": [
    "a = torch.rand(3, 5)\n",
    "b = torch.rand(3, 5)"
   ]
  },
  {
   "cell_type": "code",
   "execution_count": 11,
   "metadata": {},
   "outputs": [
    {
     "data": {
      "text/plain": [
       "torch.Size([3, 5, 2])"
      ]
     },
     "execution_count": 11,
     "metadata": {},
     "output_type": "execute_result"
    }
   ],
   "source": [
    "torch.stack([a, b], dim=-1).shape"
   ]
  },
  {
   "cell_type": "code",
   "execution_count": null,
   "metadata": {},
   "outputs": [],
   "source": []
  }
 ],
 "metadata": {
  "kernelspec": {
   "display_name": "Python 3",
   "language": "python",
   "name": "python3"
  },
  "language_info": {
   "codemirror_mode": {
    "name": "ipython",
    "version": 3
   },
   "file_extension": ".py",
   "mimetype": "text/x-python",
   "name": "python",
   "nbconvert_exporter": "python",
   "pygments_lexer": "ipython3",
   "version": "3.7.3"
  }
 },
 "nbformat": 4,
 "nbformat_minor": 2
}
