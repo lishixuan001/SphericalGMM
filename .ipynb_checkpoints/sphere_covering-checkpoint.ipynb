{
 "cells": [
  {
   "cell_type": "code",
   "execution_count": 50,
   "metadata": {},
   "outputs": [],
   "source": [
    "import numpy as np\n",
    "from math import *\n",
    "import os\n",
    "from os.path import join\n",
    "import bpy\n",
    "import matplotlib.pyplot as plt\n",
    "from mpl_toolkits.mplot3d import Axes3D\n",
    "import ipyvolume as ipv\n",
    "from numpy.linalg import norm"
   ]
  },
  {
   "cell_type": "code",
   "execution_count": 26,
   "metadata": {},
   "outputs": [],
   "source": [
    "scale = 1\n",
    "subdiv = 1\n",
    "name = \"mesh\"\n",
    "middle_point_cache = {}"
   ]
  },
  {
   "cell_type": "code",
   "execution_count": 27,
   "metadata": {},
   "outputs": [],
   "source": [
    "def vertex(x, y, z):\n",
    "    \"\"\" Return vertex coordinates fixed to the unit sphere \"\"\"\n",
    "    length = np.sqrt(x**2 + y**2 + z**2)\n",
    "    return [(i * scale) / length for i in (x,y,z)]"
   ]
  },
  {
   "cell_type": "code",
   "execution_count": 28,
   "metadata": {},
   "outputs": [],
   "source": [
    "def middle_point(point_1, point_2):\n",
    "    \"\"\" Find a middle point and project to the unit sphere \"\"\"\n",
    "    smaller_index = min(point_1, point_2)\n",
    "    greater_index = max(point_1, point_2)\n",
    "    \n",
    "    key = \"{0}-{1}\".format(smaller_index, greater_index)\n",
    "    \n",
    "    if key in middle_point_cache:\n",
    "        return middle_point_cache[key]\n",
    "    \n",
    "    # If it's not in cache, then we can cut it\n",
    "    vert_1 = verts[point_1]\n",
    "    vert_2 = verts[point_2]\n",
    "    middle = [sum(i)/2 for i in zip(vert_1, vert_2)]\n",
    "    \n",
    "    verts.append(vertex(*middle))\n",
    "    \n",
    "    index = len(verts) - 1\n",
    "    middle_point_cache[key] = index\n",
    "    \n",
    "    return index"
   ]
  },
  {
   "cell_type": "code",
   "execution_count": 29,
   "metadata": {},
   "outputs": [],
   "source": [
    "PHI = (1 + np.sqrt(5)) / 2"
   ]
  },
  {
   "cell_type": "code",
   "execution_count": 30,
   "metadata": {},
   "outputs": [],
   "source": [
    "verts = [ vertex(-1, PHI, 0), \n",
    "         vertex( 1, PHI, 0), \n",
    "         vertex(-1, -PHI, 0), \n",
    "         vertex( 1, -PHI, 0), \n",
    "         vertex(0, -1, PHI), \n",
    "         vertex(0, 1, PHI), \n",
    "         vertex(0, -1, -PHI), \n",
    "         vertex(0, 1, -PHI), \n",
    "         vertex( PHI, 0, -1), \n",
    "         vertex( PHI, 0, 1), \n",
    "         vertex(-PHI, 0, -1), \n",
    "         vertex(-PHI, 0, 1), ]"
   ]
  },
  {
   "cell_type": "code",
   "execution_count": 31,
   "metadata": {},
   "outputs": [],
   "source": [
    "faces = [ \n",
    "    # 5 faces around point 0 \n",
    "    [0, 11, 5], \n",
    "    [0, 5, 1], \n",
    "    [0, 1, 7], \n",
    "    [0, 7, 10], \n",
    "    [0, 10, 11], \n",
    "    # Adjacent faces \n",
    "    [1, 5, 9], \n",
    "    [5, 11, 4], \n",
    "    [11, 10, 2], \n",
    "    [10, 7, 6], \n",
    "    [7, 1, 8], \n",
    "    # 5 faces around 3 \n",
    "    [3, 9, 4], \n",
    "    [3, 4, 2], \n",
    "    [3, 2, 6], \n",
    "    [3, 6, 8], \n",
    "    [3, 8, 9], \n",
    "    # Adjacent faces \n",
    "    [4, 9, 5], \n",
    "    [2, 4, 11], \n",
    "    [6, 2, 10], \n",
    "    [8, 6, 7], \n",
    "    [9, 8, 1], \n",
    "]"
   ]
  },
  {
   "cell_type": "code",
   "execution_count": 34,
   "metadata": {},
   "outputs": [],
   "source": [
    "for i in range(subdiv): \n",
    "    faces_subdiv = [] \n",
    "    for tri in faces: \n",
    "        v1 = middle_point(tri[0], tri[1]) \n",
    "        v2 = middle_point(tri[1], tri[2]) \n",
    "        v3 = middle_point(tri[2], tri[0]) \n",
    "        faces_subdiv.append([tri[0], v1, v3]) \n",
    "        faces_subdiv.append([tri[1], v2, v1]) \n",
    "        faces_subdiv.append([tri[2], v3, v2]) \n",
    "        faces_subdiv.append([v1, v2, v3]) \n",
    "    faces = faces_subdiv"
   ]
  },
  {
   "cell_type": "code",
   "execution_count": 38,
   "metadata": {},
   "outputs": [],
   "source": [
    "x_axis = np.array([point[0] for point in verts])\n",
    "y_axis = np.array([point[1] for point in verts])\n",
    "z_axis = np.array([point[2] for point in verts])"
   ]
  },
  {
   "cell_type": "code",
   "execution_count": 39,
   "metadata": {},
   "outputs": [
    {
     "data": {
      "application/vnd.jupyter.widget-view+json": {
       "model_id": "7ac2483f452b4daab3704dee45b35ad6",
       "version_major": 2,
       "version_minor": 0
      },
      "text/plain": [
       "VBox(children=(Figure(camera=PerspectiveCamera(fov=46.0, position=(0.0, 0.0, 2.0), quaternion=(0.0, 0.0, 0.0, …"
      ]
     },
     "metadata": {},
     "output_type": "display_data"
    }
   ],
   "source": [
    "fig = ipv.figure()\n",
    "ipv.scatter(x_axis, y_axis, z_axis, marker=\"sphere\")\n",
    "ipv.show()\n",
    "ipv.save(\"plt.html\")"
   ]
  },
  {
   "cell_type": "code",
   "execution_count": 40,
   "metadata": {},
   "outputs": [],
   "source": [
    "def euclidean_distance(p1, p2):\n",
    "    return np.sqrt(sum(np.square(np.array(list(map(lambda x: x[0] - x[1], zip(p1, p2)))))))"
   ]
  },
  {
   "cell_type": "code",
   "execution_count": 41,
   "metadata": {},
   "outputs": [],
   "source": [
    "def great_circle_distance(r, p1, p2):\n",
    "    \"\"\" Calculate the great circle distance by vector \"\"\"\n",
    "    p1, p2 = np.array(p1), np.array(p2)\n",
    "    dist = np.arccos(np.matmul(p1, p2)) * r\n",
    "    return dist"
   ]
  },
  {
   "cell_type": "code",
   "execution_count": 42,
   "metadata": {},
   "outputs": [],
   "source": [
    "def find_min_dist(verts):\n",
    "    min_dist = np.inf\n",
    "    point = verts[0]\n",
    "    for p in verts[1:]:\n",
    "        dist = great_circle_distance(scale, point, p)\n",
    "        min_dist = min(min_dist, dist)\n",
    "    return min_dist"
   ]
  },
  {
   "cell_type": "code",
   "execution_count": 43,
   "metadata": {},
   "outputs": [],
   "source": [
    "def find_neibors(verts, min_dist):\n",
    "    neibors = []\n",
    "    point = verts[0]\n",
    "    for p in verts[1:]:\n",
    "        dist = great_circle_distance(scale, point, p)\n",
    "        if abs(dist - min_dist) <= 0.001:\n",
    "            neibors.append(p)\n",
    "    neibors.append(point)\n",
    "    return neibors"
   ]
  },
  {
   "cell_type": "code",
   "execution_count": 59,
   "metadata": {},
   "outputs": [],
   "source": [
    "def get_radius(scale, verts):\n",
    "    min_dist = find_min_dist(verts)\n",
    "    d = 0.5 * min_dist / np.cos(np.pi / 6) \n",
    "    \n",
    "    x = verts[5]\n",
    "    \n",
    "    v = np.random.rand(3)\n",
    "    v = v - np.matmul(v, x) * x\n",
    "    v = v / norm(v) * d\n",
    "\n",
    "    p = np.cos(norm(v)) * x + np.sin(norm(v)) * v / norm(v)\n",
    "    \n",
    "    origin = np.array([0, 0, 0])\n",
    "    center = 0.5 * (origin + x)\n",
    "    \n",
    "    radius = euclidean_distance(p, center)\n",
    "    \n",
    "    return ps"
   ]
  },
  {
   "cell_type": "code",
   "execution_count": 60,
   "metadata": {},
   "outputs": [
    {
     "data": {
      "application/vnd.jupyter.widget-view+json": {
       "model_id": "09e5bdd540194d97b5a7b484a4880a8f",
       "version_major": 2,
       "version_minor": 0
      },
      "text/plain": [
       "VBox(children=(Figure(camera=PerspectiveCamera(fov=46.0, position=(0.0, 0.0, 2.0), quaternion=(0.0, 0.0, 0.0, …"
      ]
     },
     "metadata": {},
     "output_type": "display_data"
    },
    {
     "data": {
      "text/plain": [
       "[array([0.29590693, 0.58895596, 0.75204386]),\n",
       " array([0.06191932, 0.76113453, 0.64563165]),\n",
       " array([0.29866089, 0.41611446, 0.85886578]),\n",
       " array([0.29603173, 0.588658  , 0.75222801]),\n",
       " array([0.31416632, 0.502579  , 0.80542776]),\n",
       " array([0.18470855, 0.71531339, 0.67395067]),\n",
       " array([0.31062256, 0.53928467, 0.7827424 ]),\n",
       " array([0.29227044, 0.59719151, 0.74695401]),\n",
       " array([0.29549049, 0.40827305, 0.86371204]),\n",
       " array([0.21745138, 0.69202362, 0.68834454]),\n",
       " array([0.24564749, 0.33247031, 0.91056071]),\n",
       " array([0.28767247, 0.60657851, 0.74115252]),\n",
       " array([0.21061022, 0.69743972, 0.68499721]),\n",
       " array([0.31310155, 0.52136399, 0.79381799]),\n",
       " array([0.31262325, 0.52578927, 0.79108302]),\n",
       " array([0.04407127, 0.23448162, 0.97112105]),\n",
       " array([0.28393769, 0.38467531, 0.87829624]),\n",
       " array([0.16892988, 0.72445761, 0.66829923]),\n",
       " array([0.12341256, 0.74489493, 0.65566828]),\n",
       " array([0.30474424, 0.43405607, 0.84777726]),\n",
       " array([0.00471298, 0.76634597, 0.6424108 ]),\n",
       " array([0.05073209, 0.76286893, 0.64455973]),\n",
       " array([0.31402987, 0.50771461, 0.80225377]),\n",
       " array([0.30384492, 0.43108006, 0.84961653]),\n",
       " array([0.17744221, 0.27854227, 0.94389007]),\n",
       " array([0.08164667, 0.75719427, 0.64806687]),\n",
       " array([0.31341085, 0.51795241, 0.79592647]),\n",
       " array([0.1034938 , 0.75146031, 0.65161065]),\n",
       " array([0.27781647, 0.62393945, 0.73042287]),\n",
       " array([0.08994129, 0.24302405, 0.96584154]),\n",
       " array([0.28218358, 0.6166378 , 0.73493554]),\n",
       " array([0.31372696, 0.48455867, 0.81656493]),\n",
       " array([0.31394823, 0.50965176, 0.80105655]),\n",
       " array([0.27763117, 0.6242374 , 0.73023873]),\n",
       " array([0.30714893, 0.44283168, 0.84235363]),\n",
       " array([0.21685908, 0.30570986, 0.92709958]),\n",
       " array([0.30322317, 0.42910142, 0.8508394 ]),\n",
       " array([0.1722898 , 0.27560597, 0.9457048 ]),\n",
       " array([0.21535025, 0.69372162, 0.68729512]),\n",
       " array([0.28232808, 0.61638643, 0.73509089]),\n",
       " array([0.30093035, 0.57594011, 0.76008809]),\n",
       " array([0.16609026, 0.72597985, 0.66735844]),\n",
       " array([0.04964558, 0.23519683, 0.97067902]),\n",
       " array([0.30673921, 0.4412372 , 0.84333907]),\n",
       " array([0.00088914, 0.76637497, 0.64239288]),\n",
       " array([0.28171168, 0.61745413, 0.73443102]),\n",
       " array([0.25747029, 0.65228666, 0.71290333]),\n",
       " array([0.28487951, 0.38638183, 0.87724156]),\n",
       " array([0.30662491, 0.44080054, 0.84360894]),\n",
       " array([0.25862996, 0.65086643, 0.71378108]),\n",
       " array([0.        , 0.52573111, 0.85065081])]"
      ]
     },
     "execution_count": 60,
     "metadata": {},
     "output_type": "execute_result"
    }
   ],
   "source": [
    "get_radius(scale, verts)"
   ]
  },
  {
   "cell_type": "code",
   "execution_count": 45,
   "metadata": {},
   "outputs": [],
   "source": [
    "verts = np.array(verts)"
   ]
  },
  {
   "cell_type": "code",
   "execution_count": 46,
   "metadata": {},
   "outputs": [],
   "source": [
    "u = np.linspace(0, 2 * np.pi, 100)\n",
    "v = np.linspace(0, np.pi, 100)"
   ]
  },
  {
   "cell_type": "code",
   "execution_count": 47,
   "metadata": {},
   "outputs": [
    {
     "data": {
      "application/vnd.jupyter.widget-view+json": {
       "model_id": "d3fe10866cc0412993294bc16b057e93",
       "version_major": 2,
       "version_minor": 0
      },
      "text/plain": [
       "VBox(children=(Figure(camera=PerspectiveCamera(fov=46.0, position=(0.0, 0.0, 2.0), quaternion=(0.0, 0.0, 0.0, …"
      ]
     },
     "metadata": {},
     "output_type": "display_data"
    }
   ],
   "source": [
    "ipv.figure()\n",
    "R = get_radius(verts)\n",
    "origin = np.array([0, 0, 0])\n",
    "for vert in verts:\n",
    "    center = 0.5 * (origin + vert)\n",
    "    x = R * np.outer(np.cos(u), np.sin(v)) + center[0]\n",
    "    y = R * np.outer(np.sin(u), np.sin(v))  + center[1]\n",
    "    z = R * np.outer(np.ones(np.size(u)), np.cos(v)) + center[2]\n",
    "    ipv.plot_mesh(x, y, z, u=y, v=x, wireframe=False, color=\"red\")\n",
    "    \n",
    "x = scale * np.outer(np.cos(u), np.sin(v))\n",
    "y = scale * np.outer(np.sin(u), np.sin(v))\n",
    "z = scale * np.outer(np.ones(np.size(u)), np.cos(v)) \n",
    "ipv.plot_mesh(x, y, z, u=y, v=x, wireframe=False, color=\"blue\")\n",
    "ipv.show() "
   ]
  },
  {
   "cell_type": "code",
   "execution_count": null,
   "metadata": {},
   "outputs": [],
   "source": [
    "\"icosahedral grid\""
   ]
  },
  {
   "cell_type": "code",
   "execution_count": 49,
   "metadata": {},
   "outputs": [
    {
     "data": {
      "text/plain": [
       "1"
      ]
     },
     "execution_count": 49,
     "metadata": {},
     "output_type": "execute_result"
    }
   ],
   "source": [
    "scale"
   ]
  },
  {
   "cell_type": "code",
   "execution_count": null,
   "metadata": {},
   "outputs": [],
   "source": []
  }
 ],
 "metadata": {
  "kernelspec": {
   "display_name": "Python 3",
   "language": "python",
   "name": "python3"
  },
  "language_info": {
   "codemirror_mode": {
    "name": "ipython",
    "version": 3
   },
   "file_extension": ".py",
   "mimetype": "text/x-python",
   "name": "python",
   "nbconvert_exporter": "python",
   "pygments_lexer": "ipython3",
   "version": "3.7.3"
  }
 },
 "nbformat": 4,
 "nbformat_minor": 2
}
